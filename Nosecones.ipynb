{
 "cells": [
  {
   "cell_type": "markdown",
   "metadata": {},
   "source": [
    "# Nosecone Designs\n",
    "\n",
    "This notbook provides descriptions, equations and renderings of several nose cone shapes commonly used in hobbly rocketry. The notebook leverages serveral common packages such as matplotlib, numpy for data handling and 2D graphing and some less-common packages viewscad, solidpython and OpenSCAD for 3D rendering.\n",
    "\n",
    "Our first step is to import these packages."
   ]
  },
  {
   "cell_type": "code",
   "execution_count": 41,
   "metadata": {},
   "outputs": [],
   "source": [
    "import matplotlib.pyplot as plt\n",
    "import numpy as np\n",
    "import viewscad\n",
    "from solid import *"
   ]
  },
  {
   "cell_type": "markdown",
   "metadata": {},
   "source": [
    "L and R define the length and radius of the nosecone and S defines the diameter of the shoulder."
   ]
  },
  {
   "cell_type": "code",
   "execution_count": 42,
   "metadata": {},
   "outputs": [],
   "source": [
    "L = 382.5\n",
    "R = 195/2\n",
    "S = 195/2\n",
    "M = 0"
   ]
  },
  {
   "cell_type": "markdown",
   "metadata": {},
   "source": [
    "The smoothing factor defines the number of segments used to render objects"
   ]
  },
  {
   "cell_type": "code",
   "execution_count": 43,
   "metadata": {},
   "outputs": [],
   "source": [
    "SMOOTH=100"
   ]
  },
  {
   "cell_type": "markdown",
   "metadata": {},
   "source": [
    "This function rotates the nosecone profile around the z-axis and outputs an .stl file"
   ]
  },
  {
   "cell_type": "code",
   "execution_count": 44,
   "metadata": {},
   "outputs": [],
   "source": [
    "def build_3d(points, name, shoulder=0, mount=0):\n",
    "    r = viewscad.Renderer()\n",
    "    p = rotate_extrude(360, segments=SMOOTH)(polygon(points))\n",
    "    if shoulder != 0:\n",
    "        p += translate([0, 0, -shoulder])(cylinder(r=shoulder, h=shoulder, segments=SMOOTH))\n",
    "        \n",
    "        if mount != 0:\n",
    "            p -= translate([0, 0, -shoulder])(cylinder(r=mount, h=shoulder, segments=SMOOTH))\n",
    "                                         \n",
    "    r.render(p, outfile='/Users/ron/' + name + '.stl')"
   ]
  },
  {
   "cell_type": "markdown",
   "metadata": {},
   "source": [
    "This function adds origin coordinates to the arrays passed and plots a graph of the nosecone profile in 2 dimensions. The arrays are combined into an array of points and returned."
   ]
  },
  {
   "cell_type": "code",
   "execution_count": 45,
   "metadata": {},
   "outputs": [],
   "source": [
    "def build_2d(x, y):\n",
    "    zero = np.array([0])\n",
    "    xplt = np.concatenate((zero, x, zero))\n",
    "    yplt = np.concatenate((zero, y, zero))\n",
    "\n",
    "    plt.axes().set_aspect(\"equal\")    \n",
    "    plt.plot(xplt, yplt)\n",
    "    \n",
    "    return np.vstack((yplt, xplt)).T\n"
   ]
  },
  {
   "cell_type": "markdown",
   "metadata": {},
   "source": [
    "We define a set of values for X from 0 to the nosecone length."
   ]
  },
  {
   "cell_type": "code",
   "execution_count": 46,
   "metadata": {},
   "outputs": [],
   "source": [
    "x = np.linspace(0, L, int(L))"
   ]
  },
  {
   "cell_type": "markdown",
   "metadata": {},
   "source": [
    "\n",
    "## Elliptical\n",
    "\n",
    "The elliptical nose cone shape is one-half of an ellipse, with the major axis being the centerline and the minor axis being the base of the nose cone. A rotation of a full ellipse about its major axis is called a prolate spheroid, so an elliptical nose shape would properly be known as a prolate hemispheroid. This shape is popular in subsonic flight (such as model rocketry) due to the blunt nose and tangent base and are generally considered superior for model rocketry altitude optimisation use. This is not a shape normally found in professional rocketry, which almost always flies at much higher velocities where other designs are more suitable.\n",
    "\n",
    "The profile is defined as $y=R{\\sqrt  {1-{x^{2} \\over L^{2}}}}$ If $R = L$, this is a hemisphere.\n",
    "\n",
    "We define our function, apply that to the values of x to generate an array of y values, which are used to generate a plot of the nosecone profile. The points returned combine the x and y arrays with the addition of the origin point to enure a closed shape. "
   ]
  },
  {
   "cell_type": "code",
   "execution_count": 47,
   "metadata": {
    "scrolled": true
   },
   "outputs": [
    {
     "data": {
      "image/png": "[encoded data removed]",
      "text/plain": [
       "<Figure size 432x288 with 1 Axes>"
      ]
     },
     "metadata": {
      "needs_background": "light"
     },
     "output_type": "display_data"
    }
   ],
   "source": [
    "f = lambda x: R * np.sqrt(1-(x**2/L**2))\n",
    "y = f(x)\n",
    "\n",
    "points = build_2d(x, y)\n",
    "np.savetxt('data_ellipse.csv', points, delimiter=',', fmt='%f')"
   ]
  },
  {
   "cell_type": "markdown",
   "metadata": {},
   "source": [
    "rotate the profile around the z-axis to create a solid object and output an .stl for subsequent use."
   ]
  },
  {
   "cell_type": "code",
   "execution_count": 48,
   "metadata": {
    "scrolled": false
   },
   "outputs": [
    {
     "name": "stderr",
     "output_type": "stream",
     "text": [
      "Geometries in cache: 4\n",
      "Geometry cache size in bytes: 5550664\n",
      "CGAL Polyhedrons in cache: 1\n",
      "CGAL cache size in bytes: 96694792\n",
      "Total rendering time: 0:00:57.120\n",
      "   Top level object is a 3D object:\n",
      "   Simple:        yes\n",
      "   Vertices:    38201\n",
      "   Halfedges:  225760\n",
      "   Edges:      112880\n",
      "   Halffacets: 149362\n",
      "   Facets:      74681\n",
      "   Volumes:         2\n"
     ]
    },
    {
     "data": {
      "application/vnd.jupyter.widget-view+json": {
       "model_id": "a1c7a8890b0e45f4a45f5a4c57e3effb",
       "version_major": 2,
       "version_minor": 0
      },
      "text/plain": [
       "VBox(children=(HTML(value=''), Renderer(background='#cccc88', background_opacity=0.0, camera=PerspectiveCamera…"
      ]
     },
     "metadata": {},
     "output_type": "display_data"
    }
   ],
   "source": [
    "build_3d(points, 'elliptical', S, M)"
   ]
  },
  {
   "cell_type": "markdown",
   "metadata": {},
   "source": [
    "## Conical\n",
    "\n",
    "A very common nose-cone shape is a simple cone. This shape is often chosen for its ease of manufacture, and is also often chosen for its drag and radar cross section characteristics. A lower drag cone would be more streamlined, with the most optimal shape being a Sears-Haack body. The sides of a conical profile are straight lines, so the diameter equation is simply $y={xR \\over L}$\n",
    "\n",
    "Cones are sometimes defined by their half angle, $\\phi$\n",
    "\n",
    "$\\phi = \\arctan \\Bigl({R \\over L}\\Bigr)$ and $y = x \\tan (\\phi) $\n",
    "\n",
    "In practical applications, a conical nose is often blunted by capping it with a segment of a sphere. The tangency point where the sphere meets the cone can be found from\n",
    "\n",
    "$x_t = \\frac{L^2}{R}\\sqrt{\\frac{r_n^2}{R^2+L^2}}$\n",
    "\n",
    "$y_t = \\frac{x_tR}{L}$\n",
    "\n",
    "where\n",
    "\n",
    "$r_n$ is the radius of the spherical nose cap.\n",
    "\n",
    "$x_o = x_t + \\sqrt{r_n^2 - y_t^2}$\n",
    "\n",
    "$x_a = x_o - r_n$"
   ]
  },
  {
   "cell_type": "code",
   "execution_count": 49,
   "metadata": {},
   "outputs": [
    {
     "data": {
      "image/png": "[encoded data removed]",
      "text/plain": [
       "<Figure size 432x288 with 1 Axes>"
      ]
     },
     "metadata": {
      "needs_background": "light"
     },
     "output_type": "display_data"
    }
   ],
   "source": [
    "f = lambda x: x*R/L\n",
    "y = f(x)\n",
    "\n",
    "points = build_2d(x, y[::-1])"
   ]
  },
  {
   "cell_type": "code",
   "execution_count": 50,
   "metadata": {},
   "outputs": [
    {
     "name": "stderr",
     "output_type": "stream",
     "text": [
      "Geometries in cache: 4\n",
      "Geometry cache size in bytes: 72584\n",
      "CGAL Polyhedrons in cache: 1\n",
      "CGAL cache size in bytes: 351112\n",
      "Total rendering time: 0:00:01.348\n",
      "   Top level object is a 3D object:\n",
      "   Simple:        yes\n",
      "   Vertices:      201\n",
      "   Halfedges:     800\n",
      "   Edges:         400\n",
      "   Halffacets:    402\n",
      "   Facets:        201\n",
      "   Volumes:         2\n"
     ]
    },
    {
     "data": {
      "application/vnd.jupyter.widget-view+json": {
       "model_id": "64a73a53f009452d80c1a1df21ae877b",
       "version_major": 2,
       "version_minor": 0
      },
      "text/plain": [
       "VBox(children=(HTML(value=''), Renderer(background='#cccc88', background_opacity=0.0, camera=PerspectiveCamera…"
      ]
     },
     "metadata": {},
     "output_type": "display_data"
    }
   ],
   "source": [
    "build_3d(points, 'conical', S, M)"
   ]
  },
  {
   "cell_type": "markdown",
   "metadata": {},
   "source": [
    "## Parabolic\n",
    "This nose shape is not the blunt shape that is envisioned when people commonly refer to a \"parabolic\" nose cone. The parabolic series nose shape is generated by rotating a segment of a parabola around a line parallel to its latus rectum. This construction is similar to that of the tangent ogive, except that a parabola is the defining shape rather than a circle. Just as it does on an ogive, this construction produces a nose shape with a sharp tip. For the blunt shape typically associated with a parabolic nose, see power series below. (The parabolic shape is also often confused with the elliptical shape.)\n",
    "\n",
    "For $0 \\leq K^\\prime \\leq 1 :  y=R \\Biggl({2({x \\over L})-K^\\prime({x \\over L})^{2} \\over 2-K^\\prime}\\Biggr)$\n",
    "\n",
    "$K^\\prime$ can vary anywhere between $0$ and $1$, but the most common values used for nose cone shapes are:\n",
    "\n",
    "| Parabola Type | $K^\\prime$ Value |\n",
    "| --- | --- |\n",
    "| Cone | $0$ |\n",
    "| Half | $\\frac {1}{2}$ |\n",
    "| Three Quarter| $3 \\over 4$ |\n",
    "| Full | $1$ |\n",
    "\n",
    "For the case of the full parabola $(K^\\prime = 1)$ the shape is tangent to the body at its base, and the base is on the axis of the parabola. Values of $K^\\prime \\lt 1$ result in a slimmer shape, whose appearance is similar to that of the secant ogive. The shape is no longer tangent at the base, and the base is parallel to, but offset from, the axis of the parabola."
   ]
  },
  {
   "cell_type": "code",
   "execution_count": 51,
   "metadata": {},
   "outputs": [
    {
     "data": {
      "image/png": "[encoded data removed]",
      "text/plain": [
       "<Figure size 432x288 with 1 Axes>"
      ]
     },
     "metadata": {
      "needs_background": "light"
     },
     "output_type": "display_data"
    }
   ],
   "source": [
    "K = .75\n",
    "\n",
    "f = lambda x: R*(((2*(x/L))-(K*(x/L)**2))/(2-K))\n",
    "y = f(x)\n",
    "\n",
    "points = build_2d(x, y[::-1])"
   ]
  },
  {
   "cell_type": "code",
   "execution_count": 52,
   "metadata": {},
   "outputs": [
    {
     "name": "stderr",
     "output_type": "stream",
     "text": [
      "Geometries in cache: 4\n",
      "Geometry cache size in bytes: 5550664\n",
      "CGAL Polyhedrons in cache: 1\n",
      "CGAL cache size in bytes: 96694792\n",
      "Total rendering time: 0:00:56.204\n",
      "   Top level object is a 3D object:\n",
      "   Simple:        yes\n",
      "   Vertices:    38201\n",
      "   Halfedges:  225760\n",
      "   Edges:      112880\n",
      "   Halffacets: 149362\n",
      "   Facets:      74681\n",
      "   Volumes:         2\n"
     ]
    },
    {
     "data": {
      "application/vnd.jupyter.widget-view+json": {
       "model_id": "25c624d52939468a98f48ea091caf097",
       "version_major": 2,
       "version_minor": 0
      },
      "text/plain": [
       "VBox(children=(HTML(value=''), Renderer(background='#cccc88', background_opacity=0.0, camera=PerspectiveCamera…"
      ]
     },
     "metadata": {},
     "output_type": "display_data"
    }
   ],
   "source": [
    "build_3d(points, 'parabolic', S, M)"
   ]
  },
  {
   "cell_type": "markdown",
   "metadata": {},
   "source": [
    "## Ogive\n",
    "### Tangent ogive\n",
    "Next to a simple cone, the tangent ogive shape is the most familiar in model/hobby rocketry. The profile of this shape is formed by a segment of a circle such that the rocket body is tangent to the curve of the nose cone at its base, and the base is on the radius of the circle. The popularity of this shape is largely due to the ease of constructing its profile, as it is simply a circular section.\n",
    "\n",
    "The radius of the circle that forms the ogive is called the ''ogive radius'', $\\rho$, and it is related to the length and base radius of the nose cone as expressed by the formula\n",
    "\n",
    "$\\rho = {R^2 + L^2\\over 2R}$\n",
    "\n",
    "The radius $y$ at any point $x$, as $x$ varies from $0$ to $L$ is\n",
    "\n",
    "$y = \\sqrt{\\rho^2 - (L - x)^2}+R - \\rho$\n",
    "\n",
    "The nose cone length, $L$, must be $\\leq \\rho$. If they are equal, then the shape is a hemisphere.\n",
    "\n",
    "### Spherically blunted tangent ogive\n",
    "A tangent ogive nose is often blunted by capping it with a segment of a [[sphere]].  The tangency point where the sphere meets the tangent ogive can be found from:\n",
    "\\begin{align}\n",
    "  x_o &= L - \\sqrt{\\left(\\rho - r_n\\right)^2 - (\\rho - R)^2} \\\\\n",
    "  y_t &= \\frac{r_n(\\rho - R)}{\\rho - r_n} \\\\\n",
    "  x_t &= x_o - \\sqrt{r_n^2 - y_t^2}\n",
    "\\end{align}\n",
    "where $r_n$ is the radius and $x_o$ is the center of the spherical nose cap.\n",
    "\n",
    "Finally, the apex point can be found from:\n",
    "$x_a = x_o - r_n$"
   ]
  },
  {
   "cell_type": "code",
   "execution_count": 53,
   "metadata": {
    "scrolled": true
   },
   "outputs": [
    {
     "name": "stdout",
     "output_type": "stream",
     "text": [
      "7595859.375\n",
      "[  0.           1.00393701   2.00787402   3.01181102   4.01574803\n",
      "   5.01968504   6.02362205   7.02755906   8.03149606   9.03543307\n",
      "  10.03937008  11.04330709  12.04724409  13.0511811   14.05511811\n",
      "  15.05905512  16.06299213  17.06692913  18.07086614  19.07480315\n",
      "  20.07874016  21.08267717  22.08661417  23.09055118  24.09448819\n",
      "  25.0984252   26.1023622   27.10629921  28.11023622  29.11417323\n",
      "  30.11811024  31.12204724  32.12598425  33.12992126  34.13385827\n",
      "  35.13779528  36.14173228  37.14566929  38.1496063   39.15354331\n",
      "  40.15748031  41.16141732  42.16535433  43.16929134  44.17322835\n",
      "  45.17716535  46.18110236  47.18503937  48.18897638  49.19291339\n",
      "  50.19685039  51.2007874   52.20472441  53.20866142  54.21259843\n",
      "  55.21653543  56.22047244  57.22440945  58.22834646  59.23228346\n",
      "  60.23622047  61.24015748  62.24409449  63.2480315   64.2519685\n",
      "  65.25590551  66.25984252  67.26377953  68.26771654  69.27165354\n",
      "  70.27559055  71.27952756  72.28346457  73.28740157  74.29133858\n",
      "  75.29527559  76.2992126   77.30314961  78.30708661  79.31102362\n",
      "  80.31496063  81.31889764  82.32283465  83.32677165  84.33070866\n",
      "  85.33464567  86.33858268  87.34251969  88.34645669  89.3503937\n",
      "  90.35433071  91.35826772  92.36220472  93.36614173  94.37007874\n",
      "  95.37401575  96.37795276  97.38188976  98.38582677  99.38976378\n",
      " 100.39370079 101.3976378  102.4015748  103.40551181 104.40944882\n",
      " 105.41338583 106.41732283 107.42125984 108.42519685 109.42913386\n",
      " 110.43307087 111.43700787 112.44094488 113.44488189 114.4488189\n",
      " 115.45275591 116.45669291 117.46062992 118.46456693 119.46850394\n",
      " 120.47244094 121.47637795 122.48031496 123.48425197 124.48818898\n",
      " 125.49212598 126.49606299 127.5        128.50393701 129.50787402\n",
      " 130.51181102 131.51574803 132.51968504 133.52362205 134.52755906\n",
      " 135.53149606 136.53543307 137.53937008 138.54330709 139.54724409\n",
      " 140.5511811  141.55511811 142.55905512 143.56299213 144.56692913\n",
      " 145.57086614 146.57480315 147.57874016 148.58267717 149.58661417\n",
      " 150.59055118 151.59448819 152.5984252  153.6023622  154.60629921\n",
      " 155.61023622 156.61417323 157.61811024 158.62204724 159.62598425\n",
      " 160.62992126 161.63385827 162.63779528 163.64173228 164.64566929\n",
      " 165.6496063  166.65354331 167.65748031 168.66141732 169.66535433\n",
      " 170.66929134 171.67322835 172.67716535 173.68110236 174.68503937\n",
      " 175.68897638 176.69291339 177.69685039 178.7007874  179.70472441\n",
      " 180.70866142 181.71259843 182.71653543 183.72047244 184.72440945\n",
      " 185.72834646 186.73228346 187.73622047 188.74015748 189.74409449\n",
      " 190.7480315  191.7519685  192.75590551 193.75984252 194.76377953\n",
      " 195.76771654 196.77165354 197.77559055 198.77952756 199.78346457\n",
      " 200.78740157 201.79133858 202.79527559 203.7992126  204.80314961\n",
      " 205.80708661 206.81102362 207.81496063 208.81889764 209.82283465\n",
      " 210.82677165 211.83070866 212.83464567 213.83858268 214.84251969\n",
      " 215.84645669 216.8503937  217.85433071 218.85826772 219.86220472\n",
      " 220.86614173 221.87007874 222.87401575 223.87795276 224.88188976\n",
      " 225.88582677 226.88976378 227.89370079 228.8976378  229.9015748\n",
      " 230.90551181 231.90944882 232.91338583 233.91732283 234.92125984\n",
      " 235.92519685 236.92913386 237.93307087 238.93700787 239.94094488\n",
      " 240.94488189 241.9488189  242.95275591 243.95669291 244.96062992\n",
      " 245.96456693 246.96850394 247.97244094 248.97637795 249.98031496\n",
      " 250.98425197 251.98818898 252.99212598 253.99606299 255.\n",
      " 256.00393701 257.00787402 258.01181102 259.01574803 260.01968504\n",
      " 261.02362205 262.02755906 263.03149606 264.03543307 265.03937008\n",
      " 266.04330709 267.04724409 268.0511811  269.05511811 270.05905512\n",
      " 271.06299213 272.06692913 273.07086614 274.07480315 275.07874016\n",
      " 276.08267717 277.08661417 278.09055118 279.09448819 280.0984252\n",
      " 281.1023622  282.10629921 283.11023622 284.11417323 285.11811024\n",
      " 286.12204724 287.12598425 288.12992126 289.13385827 290.13779528\n",
      " 291.14173228 292.14566929 293.1496063  294.15354331 295.15748031\n",
      " 296.16141732 297.16535433 298.16929134 299.17322835 300.17716535\n",
      " 301.18110236 302.18503937 303.18897638 304.19291339 305.19685039\n",
      " 306.2007874  307.20472441 308.20866142 309.21259843 310.21653543\n",
      " 311.22047244 312.22440945 313.22834646 314.23228346 315.23622047\n",
      " 316.24015748 317.24409449 318.2480315  319.2519685  320.25590551\n",
      " 321.25984252 322.26377953 323.26771654 324.27165354 325.27559055\n",
      " 326.27952756 327.28346457 328.28740157 329.29133858 330.29527559\n",
      " 331.2992126  332.30314961 333.30708661 334.31102362 335.31496063\n",
      " 336.31889764 337.32283465 338.32677165 339.33070866 340.33464567\n",
      " 341.33858268 342.34251969 343.34645669 344.3503937  345.35433071\n",
      " 346.35826772 347.36220472 348.36614173 349.37007874 350.37401575\n",
      " 351.37795276 352.38188976 353.38582677 354.38976378 355.39370079\n",
      " 356.3976378  357.4015748  358.40551181 359.40944882 360.41338583\n",
      " 361.41732283 362.42125984 363.42519685 364.42913386 365.43307087\n",
      " 366.43700787 367.44094488 368.44488189 369.4488189  370.45275591\n",
      " 371.45669291 372.46062992 373.46456693 374.46850394 375.47244094\n",
      " 376.47637795 377.48031496 378.48425197 379.48818898 380.49212598\n",
      " 381.49606299 382.5       ] [97.49036934 97.49041983 97.49047019 97.49052041 97.4905705  97.49062046\n",
      " 97.49067028 97.49071997 97.49076953 97.49081896 97.49086825 97.49091742\n",
      " 97.49096644 97.49101534 97.4910641  97.49111273 97.49116123 97.4912096\n",
      " 97.49125783 97.49130593 97.4913539  97.49140173 97.49144943 97.491497\n",
      " 97.49154444 97.49159174 97.49163891 97.49168595 97.49173286 97.49177963\n",
      " 97.49182627 97.49187278 97.49191915 97.4919654  97.49201151 97.49205748\n",
      " 97.49210333 97.49214904 97.49219462 97.49224006 97.49228538 97.49233056\n",
      " 97.4923756  97.49242052 97.4924653  97.49250995 97.49255447 97.49259885\n",
      " 97.49264311 97.49268723 97.49273121 97.49277507 97.49281879 97.49286238\n",
      " 97.49290583 97.49294915 97.49299234 97.4930354  97.49307833 97.49312112\n",
      " 97.49316378 97.49320631 97.4932487  97.49329096 97.49333309 97.49337509\n",
      " 97.49341695 97.49345868 97.49350028 97.49354174 97.49358308 97.49362428\n",
      " 97.49366535 97.49370628 97.49374708 97.49378775 97.49382829 97.49386869\n",
      " 97.49390896 97.4939491  97.49398911 97.49402898 97.49406872 97.49410833\n",
      " 97.4941478  97.49418715 97.49422636 97.49426543 97.49430438 97.49434319\n",
      " 97.49438187 97.49442041 97.49445883 97.49449711 97.49453526 97.49457327\n",
      " 97.49461115 97.4946489  97.49468652 97.49472401 97.49476136 97.49479858\n",
      " 97.49483567 97.49487262 97.49490944 97.49494613 97.49498268 97.49501911\n",
      " 97.4950554  97.49509156 97.49512758 97.49516347 97.49519923 97.49523486\n",
      " 97.49527035 97.49530572 97.49534095 97.49537604 97.49541101 97.49544584\n",
      " 97.49548053 97.4955151  97.49554953 97.49558383 97.495618   97.49565204\n",
      " 97.49568594 97.49571971 97.49575334 97.49578685 97.49582022 97.49585346\n",
      " 97.49588656 97.49591954 97.49595238 97.49598509 97.49601766 97.4960501\n",
      " 97.49608241 97.49611459 97.49614664 97.49617855 97.49621033 97.49624197\n",
      " 97.49627349 97.49630487 97.49633612 97.49636723 97.49639821 97.49642906\n",
      " 97.49645978 97.49649037 97.49652082 97.49655114 97.49658133 97.49661138\n",
      " 97.4966413  97.49667109 97.49670075 97.49673027 97.49675966 97.49678892\n",
      " 97.49681804 97.49684704 97.4968759  97.49690462 97.49693322 97.49696168\n",
      " 97.49699001 97.49701821 97.49704627 97.4970742  97.497102   97.49712966\n",
      " 97.4971572  97.4971846  97.49721187 97.497239   97.497266   97.49729287\n",
      " 97.49731961 97.49734621 97.49737269 97.49739902 97.49742523 97.4974513\n",
      " 97.49747724 97.49750305 97.49752873 97.49755427 97.49757968 97.49760496\n",
      " 97.4976301  97.49765511 97.49767999 97.49770474 97.49772935 97.49775384\n",
      " 97.49777818 97.4978024  97.49782648 97.49785043 97.49787425 97.49789794\n",
      " 97.49792149 97.49794491 97.49796819 97.49799135 97.49801437 97.49803726\n",
      " 97.49806002 97.49808264 97.49810513 97.49812749 97.49814971 97.49817181\n",
      " 97.49819377 97.49821559 97.49823729 97.49825885 97.49828028 97.49830158\n",
      " 97.49832274 97.49834377 97.49836467 97.49838544 97.49840607 97.49842657\n",
      " 97.49844694 97.49846717 97.49848728 97.49850724 97.49852708 97.49854679\n",
      " 97.49856636 97.4985858  97.4986051  97.49862428 97.49864332 97.49866223\n",
      " 97.498681   97.49869964 97.49871815 97.49873653 97.49875478 97.49877289\n",
      " 97.49879087 97.49880872 97.49882643 97.49884401 97.49886146 97.49887878\n",
      " 97.49889596 97.49891301 97.49892993 97.49894671 97.49896336 97.49897988\n",
      " 97.49899627 97.49901253 97.49902865 97.49904464 97.49906049 97.49907622\n",
      " 97.49909181 97.49910727 97.49912259 97.49913778 97.49915284 97.49916777\n",
      " 97.49918257 97.49919723 97.49921176 97.49922616 97.49924042 97.49925455\n",
      " 97.49926855 97.49928242 97.49929615 97.49930975 97.49932322 97.49933655\n",
      " 97.49934976 97.49936283 97.49937576 97.49938857 97.49940124 97.49941378\n",
      " 97.49942619 97.49943846 97.4994506  97.49946261 97.49947448 97.49948623\n",
      " 97.49949784 97.49950932 97.49952066 97.49953187 97.49954295 97.4995539\n",
      " 97.49956471 97.49957539 97.49958594 97.49959636 97.49960664 97.49961679\n",
      " 97.49962681 97.4996367  97.49964645 97.49965607 97.49966556 97.49967491\n",
      " 97.49968413 97.49969322 97.49970218 97.499711   97.49971969 97.49972825\n",
      " 97.49973668 97.49974497 97.49975313 97.49976116 97.49976905 97.49977682\n",
      " 97.49978445 97.49979194 97.49979931 97.49980654 97.49981364 97.4998206\n",
      " 97.49982744 97.49983414 97.49984071 97.49984714 97.49985344 97.49985961\n",
      " 97.49986565 97.49987156 97.49987733 97.49988297 97.49988847 97.49989385\n",
      " 97.49989909 97.4999042  97.49990917 97.49991402 97.49991873 97.49992331\n",
      " 97.49992775 97.49993206 97.49993624 97.49994029 97.4999442  97.49994799\n",
      " 97.49995163 97.49995515 97.49995853 97.49996179 97.4999649  97.49996789\n",
      " 97.49997074 97.49997346 97.49997605 97.4999785  97.49998083 97.49998302\n",
      " 97.49998507 97.499987   97.49998879 97.49999045 97.49999197 97.49999337\n",
      " 97.49999463 97.49999575 97.49999675 97.49999761 97.49999834 97.49999894\n",
      " 97.4999994  97.49999973 97.49999993 97.5       ]\n"
     ]
    },
    {
     "data": {
      "text/plain": [
       "[<matplotlib.lines.Line2D at 0x11e3010c0>]"
      ]
     },
     "execution_count": 53,
     "metadata": {},
     "output_type": "execute_result"
    },
    {
     "data": {
      "image/png": "[encoded data removed]",
      "text/plain": [
       "<Figure size 432x288 with 1 Axes>"
      ]
     },
     "metadata": {
      "needs_background": "light"
     },
     "output_type": "display_data"
    }
   ],
   "source": [
    "rho = ((R**2+L**2)/2*R)\n",
    "print(rho)\n",
    "f = lambda x: np.sqrt((rho**2 - (x-L)**2)) + (R - rho)\n",
    "y = f(x)\n",
    "print(x, y)\n",
    "yplt = y[::-1]\n",
    "plt.axes().set_aspect(\"auto\")    \n",
    "plt.plot(x, yplt)\n"
   ]
  },
  {
   "cell_type": "markdown",
   "metadata": {},
   "source": [
    "## Haack series\n",
    "\n",
    "Unlike all of the nose cone shapes above, the Haack Series shapes are not constructed from geometric figures. The shapes are instead mathematically derived for the purpose of minimizing drag; see also Sears–Haack body. While the series is a continuous set of shapes determined by the value of $C$ in the equations below, two values of $C$ have particular significance: when $C = 0$, the notation $LD$ signifies minimum drag for the given length and diameter, and when $C = {1 \\over 3}$, $LV$ indicates minimum drag for a given length and volume. The Haack series nose cones are not perfectly tangent to the body at their base except for the case where $C = {2 \\over 3}$. However, the discontinuity is usually so slight as to be imperceptible. For $C > {2 \\over 3}$, Haack nose cones bulge to a maximum diameter greater than the base diameter. Haack nose tips do not come to a sharp point, but are slightly rounded.\n",
    "\n",
    "$\\theta = \\arccos \\Bigl(1 - {2X \\over L}\\Bigr)$\n",
    "\n",
    "$y = {R \\over \\sqrt{\\pi}} \\sqrt{\\theta-{\\sin({2\\theta})\\over2}+C \\sin^3({\\theta})}$\n",
    "\n",
    "Where:\n",
    "\n",
    "$C = {1 \\over 3}$ for LV-Haack \n",
    "\n",
    "$C = 0$ for LD-Haack"
   ]
  },
  {
   "cell_type": "code",
   "execution_count": 54,
   "metadata": {},
   "outputs": [
    {
     "data": {
      "image/png": "[encoded data removed]",
      "text/plain": [
       "<Figure size 432x288 with 1 Axes>"
      ]
     },
     "metadata": {
      "needs_background": "light"
     },
     "output_type": "display_data"
    }
   ],
   "source": [
    "C = 0\n",
    "\n",
    "f = lambda x: (R/np.sqrt(np.pi))*np.sqrt((np.arccos(1 - (2*x)/L)) - (np.sin(2 * (np.arccos(1 - (2*x)/L))))/2 + C * np.sin((np.arccos(1 - (2*x)/L)))**3)\n",
    "y = f(x)\n",
    "\n",
    "points = build_2d(x, y[::-1])"
   ]
  },
  {
   "cell_type": "code",
   "execution_count": 55,
   "metadata": {},
   "outputs": [
    {
     "name": "stderr",
     "output_type": "stream",
     "text": [
      "Geometries in cache: 4\n",
      "Geometry cache size in bytes: 5550664\n",
      "CGAL Polyhedrons in cache: 1\n",
      "CGAL cache size in bytes: 96694792\n",
      "Total rendering time: 0:00:56.643\n",
      "   Top level object is a 3D object:\n",
      "   Simple:        yes\n",
      "   Vertices:    38201\n",
      "   Halfedges:  225760\n",
      "   Edges:      112880\n",
      "   Halffacets: 149362\n",
      "   Facets:      74681\n",
      "   Volumes:         2\n"
     ]
    },
    {
     "data": {
      "application/vnd.jupyter.widget-view+json": {
       "model_id": "f011b2d3cbe94e95904eceae1a56850f",
       "version_major": 2,
       "version_minor": 0
      },
      "text/plain": [
       "VBox(children=(HTML(value=''), Renderer(background='#cccc88', background_opacity=0.0, camera=PerspectiveCamera…"
      ]
     },
     "metadata": {},
     "output_type": "display_data"
    }
   ],
   "source": [
    "build_3d(points, 'haak', S, M)"
   ]
  },
  {
   "cell_type": "code",
   "execution_count": null,
   "metadata": {},
   "outputs": [],
   "source": []
  }
 ],
 "metadata": {
  "kernelspec": {
   "display_name": "Python 3.10.3 64-bit ('3.10.3')",
   "language": "python",
   "name": "python3"
  },
  "language_info": {
   "codemirror_mode": {
    "name": "ipython",
    "version": 3
   },
   "file_extension": ".py",
   "mimetype": "text/x-python",
   "name": "python",
   "nbconvert_exporter": "python",
   "pygments_lexer": "ipython3",
   "version": "3.10.3"
  },
  "vscode": {
   "interpreter": {
    "hash": "ab0e6456f45fd6bf69a297b95718e6e4886ab74a4f6f82c3ed27cf29b04f5cae"
   }
  }
 },
 "nbformat": 4,
 "nbformat_minor": 2
}
