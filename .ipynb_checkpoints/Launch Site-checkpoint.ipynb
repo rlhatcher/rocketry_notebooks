{
 "cells": [
  {
   "cell_type": "markdown",
   "metadata": {},
   "source": [
    "# Rocket Launch Site Evaluation"
   ]
  },
  {
   "cell_type": "code",
   "execution_count": 1,
   "metadata": {},
   "outputs": [],
   "source": [
    "import numpy as np\n",
    "import pandas as pd\n",
    "import scipy as sp\n",
    "import xmldataset as xd\n",
    "\n",
    "# Simulation input file\n",
    "sim_file = \".camrocsim/Data/SimulationOutput.xml\"\n",
    "\n",
    "# Profiles definition for input XML\n",
    "profile=\"\"\"\n",
    "SimulationOutput\n",
    "    Runs\n",
    "        Run\n",
    "            FlightStats\n",
    "                Apogee = dataset:simrun,process:to_list\n",
    "                Landing = dataset:simrun,process:to_list\n",
    "                Events = dataset:simrun,process:to_list\n",
    "                AscentTime = dataset:simrun\n",
    "            FlightData\n",
    "                Time = dataset:simrun,process:to_list\n",
    "                Position = dataset:simrun,process:to_list\"\"\"\n",
    "\n",
    "def to_list(comma_value):\n",
    "    \"\"\"Strips and splits x,y,z coordinate string into a list\n",
    "    \n",
    "    keyword arguments:\n",
    "    comma_value -- comma seperated string of coordinates\n",
    "    \"\"\"\n",
    "    return comma_value.strip(\";\").split(\",\")\n",
    "\n",
    "# Transmogrify input XML to a dictonary\n",
    "result = xd.parse_using_profile(open(sim_file).read(), profile, process = { 'to_list' : to_list })\n",
    "\n",
    "# Make it into a dataframe\n",
    "df = pd.DataFrame.from_records(result['simrun'])"
   ]
  },
  {
   "cell_type": "markdown",
   "metadata": {},
   "source": [
    "The dataframe used is provided by the output from the Cambridge Rocket Simulation library"
   ]
  },
  {
   "cell_type": "code",
   "execution_count": 5,
   "metadata": {},
   "outputs": [
    {
     "data": {
      "text/plain": [
       "0     [9.44334e-07,  526.122,  -33.4141]\n",
       "1        [-20.5733,  398.606,  -2.62605]\n",
       "2         [-15.0765,  627.538,  -4.8191]\n",
       "3          [14.3694,  643.12,  -9.72935]\n",
       "4           [44.949,  580.935,  -12.569]\n",
       "5       [-0.858705,  568.536,  -4.55858]\n",
       "6       [-117.094,  119.103,  -0.876746]\n",
       "7          [102.399,  157.99,  -3.20905]\n",
       "8         [-216.46,  633.768,  -3.19449]\n",
       "9         [90.2452,  744.206,  -7.96821]\n",
       "10        [16.5757,  553.189,  -52.9351]\n",
       "11         [21.519,  703.197,  -4.59015]\n",
       "12        [42.3765,  541.364,  -11.2007]\n",
       "13         [18.737,  563.326,  -7.45574]\n",
       "14       [-94.4197,  176.103,  -1.60294]\n",
       "15        [57.4244,  157.971,  -2.33711]\n",
       "16        [74.6563,  664.586,  -5.52824]\n",
       "17        [41.6304,  608.336,  -4.35972]\n",
       "18        [3.46266,  553.708,  -8.69095]\n",
       "19         [33.396,  119.275,  -3.20751]\n",
       "20        [-73.864,  113.494,  -3.92498]\n",
       "21        [45.8815,  17.5486,  -2.95492]\n",
       "22       [-100.042,  94.8847,  -1.65023]\n",
       "23      [-92.0814,  140.943,  -0.855408]\n",
       "24        [31.3739,  540.389,  -8.56393]\n",
       "25        [105.447,  198.373,  -1.45757]\n",
       "26         [2.31795,  585.661,  -5.6145]\n",
       "27        [-117.568,  698.46,  -10.1224]\n",
       "28       [-73.9769,  294.112,  -2.50271]\n",
       "29         [-118.947,  13.9392,  -1.451]\n",
       "30       [-203.723,  199.284,  -1.12561]\n",
       "31      [-122.585,  144.289,  -0.919189]\n",
       "32       [-2.05336,  607.567,  -3.62347]\n",
       "33      [-11.6788,  153.503,  -0.681545]\n",
       "34      [-81.2636,  186.461,  -0.609842]\n",
       "35         [103.22,  521.001,  -10.1163]\n",
       "Name: Landing, dtype: object"
      ]
     },
     "execution_count": 5,
     "metadata": {},
     "output_type": "execute_result"
    }
   ],
   "source": [
    "df['Landing']"
   ]
  },
  {
   "cell_type": "code",
   "execution_count": null,
   "metadata": {},
   "outputs": [],
   "source": []
  },
  {
   "cell_type": "code",
   "execution_count": null,
   "metadata": {},
   "outputs": [],
   "source": []
  }
 ],
 "metadata": {
  "kernelspec": {
   "display_name": "Python 3",
   "language": "python",
   "name": "python3"
  },
  "language_info": {
   "codemirror_mode": {
    "name": "ipython",
    "version": 3
   },
   "file_extension": ".py",
   "mimetype": "text/x-python",
   "name": "python",
   "nbconvert_exporter": "python",
   "pygments_lexer": "ipython3",
   "version": "3.6.8"
  }
 },
 "nbformat": 4,
 "nbformat_minor": 2
}
