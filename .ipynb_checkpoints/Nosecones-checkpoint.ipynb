{
 "cells": [
  {
   "cell_type": "markdown",
   "metadata": {},
   "source": [
    "# Nosecone Designs\n",
    "\n",
    "This notbook provides descriptions, equations and renderings of several nose cone shapes commonly used in hobbly rocketry. The notebook leverages serveral common packages such as matplotlib, numpy for data handling and 2D graphing and some less-common packages viewscad, solidpython and OpenSCAD for 3D rendering.\n",
    "\n",
    "Our first step is to import these packages."
   ]
  },
  {
   "cell_type": "code",
   "execution_count": 313,
   "metadata": {},
   "outputs": [],
   "source": [
    "import matplotlib.pyplot as plt\n",
    "import numpy as np\n",
    "import viewscad\n",
    "from solid import *"
   ]
  },
  {
   "cell_type": "markdown",
   "metadata": {},
   "source": [
    "L and R define the length and radius of the nosecone and S defines the diameter of the shoulder."
   ]
  },
  {
   "cell_type": "code",
   "execution_count": 314,
   "metadata": {},
   "outputs": [],
   "source": [
    "L = 43.7\n",
    "R = 18.7/2\n",
    "S = 18/2\n",
    "M = 3/2"
   ]
  },
  {
   "cell_type": "markdown",
   "metadata": {},
   "source": [
    "The smoothing factor defines the number of segments used to render objects"
   ]
  },
  {
   "cell_type": "code",
   "execution_count": 315,
   "metadata": {},
   "outputs": [],
   "source": [
    "SMOOTH=100"
   ]
  },
  {
   "cell_type": "markdown",
   "metadata": {},
   "source": [
    "This function rotates the nosecone profile around the z-axis and outputs an .stl file"
   ]
  },
  {
   "cell_type": "code",
   "execution_count": 316,
   "metadata": {},
   "outputs": [],
   "source": [
    "def build_3d(points, name, shoulder=0, mount=0):\n",
    "    r = viewscad.Renderer()\n",
    "    p = rotate_extrude(360, segments=SMOOTH)(polygon(points))\n",
    "    if shoulder != 0:\n",
    "        p += translate([0, 0, -shoulder])(cylinder(r=shoulder, h=shoulder, segments=SMOOTH))\n",
    "        \n",
    "        if mount != 0:\n",
    "            p -= translate([0, 0, -shoulder])(cylinder(r=mount, h=shoulder, segments=SMOOTH))\n",
    "                                         \n",
    "    r.render(p, outfile='/Users/hatcherr/' + name + '.stl')"
   ]
  },
  {
   "cell_type": "markdown",
   "metadata": {},
   "source": [
    "This function adds origin coordinates to the arrays passed and plots a graph of the nosecone profile in 2 dimensions. The arrays are combined into an array of points and returned."
   ]
  },
  {
   "cell_type": "code",
   "execution_count": 317,
   "metadata": {},
   "outputs": [],
   "source": [
    "def build_2d(x, y):\n",
    "    zero = np.array([0])\n",
    "    xplt = np.concatenate((zero, x, zero))\n",
    "    yplt = np.concatenate((zero, y, zero))\n",
    "\n",
    "    plt.axes().set_aspect(\"equal\")    \n",
    "    plt.plot(xplt, yplt)\n",
    "    \n",
    "    return np.vstack((yplt, xplt)).T"
   ]
  },
  {
   "cell_type": "markdown",
   "metadata": {},
   "source": [
    "We define a set of values for X from 0 to the nosecone length."
   ]
  },
  {
   "cell_type": "code",
   "execution_count": 318,
   "metadata": {},
   "outputs": [],
   "source": [
    "x = np.linspace(0, L, int(L))"
   ]
  },
  {
   "cell_type": "markdown",
   "metadata": {},
   "source": [
    "\n",
    "## Elliptical\n",
    "\n",
    "The elliptical nose cone shape is one-half of an ellipse, with the major axis being the centerline and the minor axis being the base of the nose cone. A rotation of a full ellipse about its major axis is called a prolate spheroid, so an elliptical nose shape would properly be known as a prolate hemispheroid. This shape is popular in subsonic flight (such as model rocketry) due to the blunt nose and tangent base and are generally considered superior for model rocketry altitude optimisation use. This is not a shape normally found in professional rocketry, which almost always flies at much higher velocities where other designs are more suitable.\n",
    "\n",
    "The profile is defined as $y=R{\\sqrt  {1-{x^{2} \\over L^{2}}}}$ If $R = L$, this is a hemisphere.\n",
    "\n",
    "We define our function, apply that to the values of x to generate an array of y values, which are used to generate a plot of the nosecone profile. The points returned combine the x and y arrays with the addition of the origin point to enure a closed shape. "
   ]
  },
  {
   "cell_type": "code",
   "execution_count": 319,
   "metadata": {
    "scrolled": true
   },
   "outputs": [
    {
     "data": {
      "image/png": "[encoded data removed]",
      "text/plain": [
       "<Figure size 432x288 with 1 Axes>"
      ]
     },
     "metadata": {
      "needs_background": "light"
     },
     "output_type": "display_data"
    }
   ],
   "source": [
    "f = lambda x: R * np.sqrt(1-(x**2/L**2))\n",
    "y = f(x)\n",
    "\n",
    "points = build_2d(x, y)"
   ]
  },
  {
   "cell_type": "markdown",
   "metadata": {},
   "source": [
    "rotate the profile around the z-axis to create a solid object and output an .stl for subsequent use."
   ]
  },
  {
   "cell_type": "code",
   "execution_count": 320,
   "metadata": {
    "scrolled": false
   },
   "outputs": [
    {
     "data": {
      "application/vnd.jupyter.widget-view+json": {
       "model_id": "f44015cb316647c693adc9520d2f1a05",
       "version_major": 2,
       "version_minor": 0
      },
      "text/plain": [
       "VBox(children=(HTML(value=''), Renderer(background='#cccc88', background_opacity=0.0, camera=PerspectiveCamera…"
      ]
     },
     "metadata": {},
     "output_type": "display_data"
    }
   ],
   "source": [
    "build_3d(points, 'elliptical', S, M)"
   ]
  },
  {
   "cell_type": "markdown",
   "metadata": {},
   "source": [
    "## Conical\n",
    "\n",
    "A very common nose-cone shape is a simple cone. This shape is often chosen for its ease of manufacture, and is also often chosen for its drag and radar cross section characteristics. A lower drag cone would be more streamlined, with the most optimal shape being a Sears-Haack body. The sides of a conical profile are straight lines, so the diameter equation is simply $y={xR \\over L}$\n",
    "\n",
    "Cones are sometimes defined by their half angle, $\\phi$\n",
    "\n",
    "$\\phi = \\arctan \\Bigl({R \\over L}\\Bigr)$ and $y = x \\tan (\\phi) $\n",
    "\n",
    "In practical applications, a conical nose is often blunted by capping it with a segment of a sphere. The tangency point where the sphere meets the cone can be found from\n",
    "\n",
    "$x_t = \\frac{L^2}{R}\\sqrt{\\frac{r_n^2}{R^2+L^2}}$\n",
    "\n",
    "$y_t = \\frac{x_tR}{L}$\n",
    "\n",
    "where\n",
    "\n",
    "$r_n$ is the radius of the spherical nose cap.\n",
    "\n",
    "$x_o = x_t + \\sqrt{r_n^2 - y_t^2}$\n",
    "\n",
    "$x_a = x_o - r_n$"
   ]
  },
  {
   "cell_type": "code",
   "execution_count": 321,
   "metadata": {},
   "outputs": [
    {
     "data": {
      "image/png": "[encoded data removed]",
      "text/plain": [
       "<Figure size 432x288 with 1 Axes>"
      ]
     },
     "metadata": {
      "needs_background": "light"
     },
     "output_type": "display_data"
    }
   ],
   "source": [
    "f = lambda x: x*R/L\n",
    "y = f(x)\n",
    "\n",
    "points = build_2d(x, y[::-1])"
   ]
  },
  {
   "cell_type": "code",
   "execution_count": 322,
   "metadata": {},
   "outputs": [
    {
     "data": {
      "application/vnd.jupyter.widget-view+json": {
       "model_id": "85b0c17ffca34a8e8c7ff809a3bd8da1",
       "version_major": 2,
       "version_minor": 0
      },
      "text/plain": [
       "VBox(children=(HTML(value=''), Renderer(background='#cccc88', background_opacity=0.0, camera=PerspectiveCamera…"
      ]
     },
     "metadata": {},
     "output_type": "display_data"
    }
   ],
   "source": [
    "build_3d(points, 'conical', S, M)"
   ]
  },
  {
   "cell_type": "markdown",
   "metadata": {},
   "source": [
    "## Parabolic\n",
    "This nose shape is not the blunt shape that is envisioned when people commonly refer to a \"parabolic\" nose cone. The parabolic series nose shape is generated by rotating a segment of a parabola around a line parallel to its latus rectum. This construction is similar to that of the tangent ogive, except that a parabola is the defining shape rather than a circle. Just as it does on an ogive, this construction produces a nose shape with a sharp tip. For the blunt shape typically associated with a parabolic nose, see power series below. (The parabolic shape is also often confused with the elliptical shape.)\n",
    "\n",
    "For $0 \\leq K^\\prime \\leq 1 :  y=R \\Biggl({2({x \\over L})-K^\\prime({x \\over L})^{2} \\over 2-K^\\prime}\\Biggr)$\n",
    "\n",
    "$K^\\prime$ can vary anywhere between $0$ and $1$, but the most common values used for nose cone shapes are:\n",
    "\n",
    "| Parabola Type | $K^\\prime$ Value |\n",
    "| --- | --- |\n",
    "| Cone | $0$ |\n",
    "| Half | $\\frac {1}{2}$ |\n",
    "| Three Quarter| $3 \\over 4$ |\n",
    "| Full | $1$ |\n",
    "\n",
    "For the case of the full parabola $(K^\\prime = 1)$ the shape is tangent to the body at its base, and the base is on the axis of the parabola. Values of $K^\\prime \\lt 1$ result in a slimmer shape, whose appearance is similar to that of the secant ogive. The shape is no longer tangent at the base, and the base is parallel to, but offset from, the axis of the parabola."
   ]
  },
  {
   "cell_type": "code",
   "execution_count": 323,
   "metadata": {},
   "outputs": [
    {
     "data": {
      "image/png": "[encoded data removed]",
      "text/plain": [
       "<Figure size 432x288 with 1 Axes>"
      ]
     },
     "metadata": {
      "needs_background": "light"
     },
     "output_type": "display_data"
    }
   ],
   "source": [
    "K = .75\n",
    "\n",
    "f = lambda x: R*(((2*(x/L))-(K*(x/L)**2))/(2-K))\n",
    "y = f(x)\n",
    "\n",
    "points = build_2d(x, y[::-1])"
   ]
  },
  {
   "cell_type": "code",
   "execution_count": 324,
   "metadata": {},
   "outputs": [
    {
     "data": {
      "application/vnd.jupyter.widget-view+json": {
       "model_id": "5878b322b80647169943321fe974206d",
       "version_major": 2,
       "version_minor": 0
      },
      "text/plain": [
       "VBox(children=(HTML(value=''), Renderer(background='#cccc88', background_opacity=0.0, camera=PerspectiveCamera…"
      ]
     },
     "metadata": {},
     "output_type": "display_data"
    }
   ],
   "source": [
    "build_3d(points, 'parabolic', S, M)"
   ]
  },
  {
   "cell_type": "markdown",
   "metadata": {},
   "source": [
    "## Ogive\n",
    "### Tangent ogive\n",
    "Next to a simple cone, the tangent ogive shape is the most familiar in model/hobby rocketry. The profile of this shape is formed by a segment of a circle such that the rocket body is tangent to the curve of the nose cone at its base, and the base is on the radius of the circle. The popularity of this shape is largely due to the ease of constructing its profile, as it is simply a circular section.\n",
    "\n",
    "The radius of the circle that forms the ogive is called the ''ogive radius'', $\\rho$, and it is related to the length and base radius of the nose cone as expressed by the formula\n",
    "\n",
    "$\\rho = {R^2 + L^2\\over 2R}$\n",
    "\n",
    "The radius $y$ at any point $x$, as $x$ varies from $0$ to $L$ is\n",
    "\n",
    "$y = \\sqrt{\\rho^2 - (L - x)^2}+R - \\rho$\n",
    "\n",
    "The nose cone length, $L$, must be $\\leq \\rho$. If they are equal, then the shape is a hemisphere.\n",
    "\n",
    "### Spherically blunted tangent ogive\n",
    "A tangent ogive nose is often blunted by capping it with a segment of a [[sphere]].  The tangency point where the sphere meets the tangent ogive can be found from:\n",
    "\\begin{align}\n",
    "  x_o &= L - \\sqrt{\\left(\\rho - r_n\\right)^2 - (\\rho - R)^2} \\\\\n",
    "  y_t &= \\frac{r_n(\\rho - R)}{\\rho - r_n} \\\\\n",
    "  x_t &= x_o - \\sqrt{r_n^2 - y_t^2}\n",
    "\\end{align}\n",
    "where $r_n$ is the radius and $x_o$ is the center of the spherical nose cap.\n",
    "\n",
    "Finally, the apex point can be found from:\n",
    "$x_a = x_o - r_n$"
   ]
  },
  {
   "cell_type": "code",
   "execution_count": 325,
   "metadata": {
    "scrolled": true
   },
   "outputs": [
    {
     "name": "stdout",
     "output_type": "stream",
     "text": [
      "9336.5009375\n",
      "[ 0.          1.04047619  2.08095238  3.12142857  4.16190476  5.20238095\n",
      "  6.24285714  7.28333333  8.32380952  9.36428571 10.4047619  11.4452381\n",
      " 12.48571429 13.52619048 14.56666667 15.60714286 16.64761905 17.68809524\n",
      " 18.72857143 19.76904762 20.80952381 21.85       22.89047619 23.93095238\n",
      " 24.97142857 26.01190476 27.05238095 28.09285714 29.13333333 30.17380952\n",
      " 31.21428571 32.2547619  33.2952381  34.33571429 35.37619048 36.41666667\n",
      " 37.45714286 38.49761905 39.53809524 40.57857143 41.61904762 42.65952381\n",
      " 43.7       ] [9.24772933 9.25254141 9.25723753 9.2618177  9.26628191 9.27063017\n",
      " 9.27486247 9.27897882 9.28297921 9.28686365 9.29063213 9.29428465\n",
      " 9.29782123 9.30124184 9.30454651 9.30773522 9.31080797 9.31376477\n",
      " 9.31660562 9.31933051 9.32193945 9.32443244 9.32680947 9.32907055\n",
      " 9.33121567 9.33324485 9.33515807 9.33695533 9.33863665 9.34020201\n",
      " 9.34165142 9.34298487 9.34420237 9.34530392 9.34628952 9.34715916\n",
      " 9.34791285 9.34855059 9.34907238 9.34947821 9.34976809 9.34994202\n",
      " 9.35      ]\n"
     ]
    },
    {
     "data": {
      "text/plain": [
       "[<matplotlib.lines.Line2D at 0x1a2d00c390>]"
      ]
     },
     "execution_count": 325,
     "metadata": {},
     "output_type": "execute_result"
    },
    {
     "data": {
      "image/png": "[encoded data removed]",
      "text/plain": [
       "<Figure size 432x288 with 1 Axes>"
      ]
     },
     "metadata": {
      "needs_background": "light"
     },
     "output_type": "display_data"
    }
   ],
   "source": [
    "rho = ((R**2+L**2)/2*R)\n",
    "print(rho)\n",
    "f = lambda x: np.sqrt((rho**2 - (x-L)**2)) + (R - rho)\n",
    "y = f(x)\n",
    "print(x, y)\n",
    "yplt = y[::-1]\n",
    "plt.axes().set_aspect(\"auto\")    \n",
    "plt.plot(x, yplt)\n"
   ]
  },
  {
   "cell_type": "markdown",
   "metadata": {},
   "source": [
    "## Haack series\n",
    "\n",
    "Unlike all of the nose cone shapes above, the Haack Series shapes are not constructed from geometric figures. The shapes are instead mathematically derived for the purpose of minimizing drag; see also Sears–Haack body. While the series is a continuous set of shapes determined by the value of $C$ in the equations below, two values of $C$ have particular significance: when $C = 0$, the notation $LD$ signifies minimum drag for the given length and diameter, and when $C = {1 \\over 3}$, $LV$ indicates minimum drag for a given length and volume. The Haack series nose cones are not perfectly tangent to the body at their base except for the case where $C = {2 \\over 3}$. However, the discontinuity is usually so slight as to be imperceptible. For $C > {2 \\over 3}$, Haack nose cones bulge to a maximum diameter greater than the base diameter. Haack nose tips do not come to a sharp point, but are slightly rounded.\n",
    "\n",
    "$\\theta = \\arccos \\Bigl(1 - {2X \\over L}\\Bigr)$\n",
    "\n",
    "$y = {R \\over \\sqrt{\\pi}} \\sqrt{\\theta-{\\sin({2\\theta})\\over2}+C \\sin^3({\\theta})}$\n",
    "\n",
    "Where:\n",
    "\n",
    "$C = {1 \\over 3}$ for LV-Haack \n",
    "\n",
    "$C = 0$ for LD-Haack"
   ]
  },
  {
   "cell_type": "code",
   "execution_count": 326,
   "metadata": {},
   "outputs": [
    {
     "data": {
      "image/png": "[encoded data removed]",
      "text/plain": [
       "<Figure size 432x288 with 1 Axes>"
      ]
     },
     "metadata": {
      "needs_background": "light"
     },
     "output_type": "display_data"
    }
   ],
   "source": [
    "C = 1/3\n",
    "\n",
    "f = lambda x: (R/np.sqrt(np.pi))*np.sqrt((np.arccos(1 - (2*x)/L)) - (np.sin(2 * (np.arccos(1 - (2*x)/L))))/2 + C * np.sin((np.arccos(1 - (2*x)/L)))**3)\n",
    "y = f(x)\n",
    "\n",
    "points = build_2d(x, y[::-1])"
   ]
  },
  {
   "cell_type": "code",
   "execution_count": 327,
   "metadata": {},
   "outputs": [
    {
     "data": {
      "application/vnd.jupyter.widget-view+json": {
       "model_id": "c57009852ddb4d00b9d9bece31b112ff",
       "version_major": 2,
       "version_minor": 0
      },
      "text/plain": [
       "VBox(children=(HTML(value=''), Renderer(background='#cccc88', background_opacity=0.0, camera=PerspectiveCamera…"
      ]
     },
     "metadata": {},
     "output_type": "display_data"
    }
   ],
   "source": [
    "build_3d(points, 'haak', S, M)"
   ]
  },
  {
   "cell_type": "code",
   "execution_count": null,
   "metadata": {},
   "outputs": [],
   "source": []
  }
 ],
 "metadata": {
  "kernelspec": {
   "display_name": "Python 3",
   "language": "python",
   "name": "python3"
  },
  "language_info": {
   "codemirror_mode": {
    "name": "ipython",
    "version": 3
   },
   "file_extension": ".py",
   "mimetype": "text/x-python",
   "name": "python",
   "nbconvert_exporter": "python",
   "pygments_lexer": "ipython3",
   "version": "3.6.8"
  }
 },
 "nbformat": 4,
 "nbformat_minor": 2
}
