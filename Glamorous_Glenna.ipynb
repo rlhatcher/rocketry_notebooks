{
 "cells": [
  {
   "cell_type": "markdown",
   "metadata": {},
   "source": [
    "# Altitude Rockets Designs\n",
    "\n",
    "This notbook provides descriptions, equations and renderings of several nose cone shapes commonly used in hobbly rocketry. The notebook leverages serveral common packages such as matplotlib, numpy for data handling and 2D graphing and some less-common packages viewscad, solidpython and OpenSCAD for 3D rendering.\n",
    "\n",
    "Our first step is to import these packages."
   ]
  },
  {
   "cell_type": "code",
   "execution_count": 51,
   "metadata": {},
   "outputs": [],
   "source": [
    "from os.path import expanduser\n",
    "import matplotlib.pyplot as plt\n",
    "import numpy as np\n",
    "import viewscad\n",
    "from solid import *"
   ]
  },
  {
   "cell_type": "markdown",
   "metadata": {},
   "source": [
    "The smoothing factor defines the number of segments used to render objects"
   ]
  },
  {
   "cell_type": "code",
   "execution_count": 52,
   "metadata": {},
   "outputs": [],
   "source": [
    "SMOOTH=100"
   ]
  },
  {
   "cell_type": "markdown",
   "metadata": {},
   "source": [
    "This function adds origin coordinates to the arrays passed and plots a graph of the nosecone profile in 2 dimensions. The arrays are combined into an array of points and returned."
   ]
  },
  {
   "cell_type": "code",
   "execution_count": 53,
   "metadata": {},
   "outputs": [],
   "source": [
    "def build_2d(x, y):\n",
    "    zero = np.array([0])\n",
    "    xplt = np.concatenate((zero, x, zero))\n",
    "    yplt = np.concatenate((zero, y, zero))\n",
    "\n",
    "    plt.axes().set_aspect(\"equal\")    \n",
    "    plt.plot(xplt, yplt)\n",
    "    \n",
    "    return np.vstack((yplt, xplt)).T"
   ]
  },
  {
   "cell_type": "code",
   "execution_count": 54,
   "metadata": {},
   "outputs": [],
   "source": [
    "OD = 13.88\n",
    "ID = 13\n",
    "OR = OD/2\n",
    "IR = ID/2\n",
    "\n",
    "LNose = 31\n",
    "chord = 20\n",
    "span = 20\n",
    "fin_thickness = 1.76\n",
    "body_len = 110"
   ]
  },
  {
   "cell_type": "markdown",
   "metadata": {},
   "source": [
    "\n",
    "## Nose Cone\n",
    "\n",
    "The elliptical nose cone shape is one-half of an ellipse, with the major axis being the centerline and the minor axis being the base of the nose cone. A rotation of a full ellipse about its major axis is called a prolate spheroid, so an elliptical nose shape would properly be known as a prolate hemispheroid. This has been chosen  due to the blunt nose and tangent base, which is generally considered superior for model rocketry altitude optimisation use.\n",
    "\n",
    "The profile is defined as $y=R{\\sqrt  {1-{x^{2} \\over L^{2}}}}$\n",
    "\n",
    "Calculate the nose cone profile"
   ]
  },
  {
   "cell_type": "code",
   "execution_count": 55,
   "metadata": {
    "scrolled": true
   },
   "outputs": [
    {
     "data": {
      "image/png": "[encoded data removed]",
      "text/plain": [
       "<Figure size 432x288 with 1 Axes>"
      ]
     },
     "metadata": {
      "needs_background": "light"
     },
     "output_type": "display_data"
    }
   ],
   "source": [
    "x = np.linspace(0, LNose, int(LNose))\n",
    "f = lambda x: OR * np.sqrt(1-(x**2/LNose**2))\n",
    "y = f(x)\n",
    "\n",
    "points = build_2d(x, y)"
   ]
  },
  {
   "cell_type": "markdown",
   "metadata": {},
   "source": [
    "rotate the profile around the z-axis to create a solid object and output an .stl for subsequent use."
   ]
  },
  {
   "cell_type": "code",
   "execution_count": 56,
   "metadata": {
    "scrolled": false
   },
   "outputs": [
    {
     "data": {
      "application/vnd.jupyter.widget-view+json": {
       "model_id": "26730f4df7d64590b9002e7c568f494c",
       "version_major": 2,
       "version_minor": 0
      },
      "text/plain": [
       "VBox(children=(HTML(value=''), Renderer(background='#cccc88', background_opacity=0.0, camera=PerspectiveCamera…"
      ]
     },
     "metadata": {},
     "output_type": "display_data"
    }
   ],
   "source": [
    "r = viewscad.Renderer()\n",
    "p = rotate_extrude(360, segments=SMOOTH)(polygon(points))\n",
    "\n",
    "r.render(p, outfile=expanduser(\"~\") + '/GGA_nose.stl')"
   ]
  },
  {
   "cell_type": "markdown",
   "metadata": {},
   "source": [
    "## Altimeter Bay\n",
    "This need to be printed with seveal bottom layers to provide protection for the altimiter, which is housed mostly in the nose cone."
   ]
  },
  {
   "cell_type": "code",
   "execution_count": 57,
   "metadata": {},
   "outputs": [
    {
     "data": {
      "application/vnd.jupyter.widget-view+json": {
       "model_id": "6ff55610780041bd9c02438b83f365a4",
       "version_major": 2,
       "version_minor": 0
      },
      "text/plain": [
       "VBox(children=(HTML(value=''), Renderer(background='#cccc88', background_opacity=0.0, camera=PerspectiveCamera…"
      ]
     },
     "metadata": {},
     "output_type": "display_data"
    }
   ],
   "source": [
    "r = viewscad.Renderer()\n",
    "p = cylinder(r=IR, h=20, segments=SMOOTH)\n",
    "                                         \n",
    "r.render(p, outfile=expanduser(\"~\") + '/GGA_altbay.stl')"
   ]
  },
  {
   "cell_type": "markdown",
   "metadata": {},
   "source": [
    "## The Fins\n",
    "The fins are square, which provides an optimal balance between stability and drag. The airfoil applied to the fins is paticularly important as these shows significant improvement in effieiency.\n",
    "\n",
    "A symmetric NACA Four-Digit Series airfoil has been chosen, which is most approriate for this use and significantly easier to calculate. The formula for the shape of a NACA 00xx foil, with \"x\" being replaced by the percentage of thickness to chord, is:[3]\n",
    "\n",
    "$y_t=5t\\ [0.2969\\sqrt{x}-0.1260x-0.3516x^2+0.2843x^3-0.1015x^4]$\n",
    "\n",
    "where:\n",
    "\n",
    "* $x$ is the position along the chord from 0 to 1.00, (0 to 100%)\n",
    "\n",
    "* $y_t$ is the half thickness at a given value of $x$ (centerline to surface), and\n",
    "\n",
    "* $t$ is the maximum thickness as a fraction of the chord (so $t$ gives the last two digits in the NACA 4-digit denomination divided by 100).\n",
    "\n",
    "Note that in this equation, at $(x/c) = 1$ (the trailing edge of the airfoil), the thickness is not quite zero. If a zero-thickness trailing edge is required, for example for computational work, one of the coefficients should be modified such that they sum to zero. Modifying the last coefficient (i.e. to −0.1036) will result in the smallest change to the overall shape of the airfoil. The leading edge approximates a cylinder with a radius of:\n",
    "\n",
    "$r=1.1019\\ \\frac {t^2}{c}.$\n",
    "\n",
    "Now the coordinates $(x_U,y_U)$ of the upper airfoil surface, and $(x_L,y_L)$ of the lower airfoil surface are:\n",
    "\n",
    "$x_U=x_L=x,\\qquad y_U=+y_t,\\qquad \\text{and}\\qquad y_L=-y_t.$\n",
    "\n",
    "Symmetrical 4-digit series airfoils by default have maximum thickness at 30% of the chord from the leading edge.\n",
    "\n",
    "Allocate an array to represent $x$ and apply the function."
   ]
  },
  {
   "cell_type": "code",
   "execution_count": 58,
   "metadata": {
    "scrolled": true
   },
   "outputs": [],
   "source": [
    "x = np.linspace(0, 1, chord*10)\n",
    "\n",
    "f = lambda x: (5*fin_thickness)*(0.2969*np.sqrt(x)-0.1260*x-0.3516*x**2+0.2843*x**3-0.1016*x**4)\n",
    "\n",
    "y=f(x)"
   ]
  },
  {
   "cell_type": "markdown",
   "metadata": {},
   "source": [
    "Create a array to scale $x$ to $c$ and a $(c,\\ 0)$ coordnate to the x and y arrays"
   ]
  },
  {
   "cell_type": "code",
   "execution_count": 59,
   "metadata": {},
   "outputs": [],
   "source": [
    "x_scale = np.linspace(0, chord, int(chord*10))\n",
    "\n",
    "\n",
    "x_u = np.concatenate((x_scale, np.array([chord])))\n",
    "y_u = np.concatenate((y, np.array([0])))"
   ]
  },
  {
   "cell_type": "markdown",
   "metadata": {},
   "source": [
    "Create the lower arrays"
   ]
  },
  {
   "cell_type": "code",
   "execution_count": 60,
   "metadata": {},
   "outputs": [
    {
     "name": "stdout",
     "output_type": "stream",
     "text": [
      "(array([  0,   1, 178, 179, 180, 181, 182, 183, 184, 185, 186, 187, 188,\n",
      "       189, 190, 191, 192, 193, 194, 195, 196, 197, 198, 199, 200]),)\n",
      "0.22183085124927818\n",
      "0.21267321695232522\n"
     ]
    },
    {
     "data": {
      "text/plain": [
       "[<matplotlib.lines.Line2D at 0x1a23c74748>]"
      ]
     },
     "execution_count": 60,
     "metadata": {},
     "output_type": "execute_result"
    },
    {
     "data": {
      "image/png": "[encoded data removed]",
      "text/plain": [
       "<Figure size 432x288 with 1 Axes>"
      ]
     },
     "metadata": {
      "needs_background": "light"
     },
     "output_type": "display_data"
    }
   ],
   "source": [
    "y_l = np.negative(y_u)\n",
    "x_l = x_u\n",
    "\n",
    "print(np.where(y_u < 0.225))\n",
    "\n",
    "plt.axes().set_aspect(\"equal\")\n",
    "plt.plot(x_u, y_u)\n",
    "plt.plot(x_l, y_l)"
   ]
  },
  {
   "cell_type": "markdown",
   "metadata": {},
   "source": [
    "Build a set of points describing the airfoil"
   ]
  },
  {
   "cell_type": "code",
   "execution_count": 61,
   "metadata": {},
   "outputs": [],
   "source": [
    "fin_points = np.vstack((np.concatenate((y_u, y_l)), np.concatenate((x_u, x_l)))).T"
   ]
  },
  {
   "cell_type": "markdown",
   "metadata": {},
   "source": [
    "## Body\n",
    "The body is simply a minimum diameter tube with the fins attached at $120^\\circ$ angles.\n",
    "\n",
    "The fins are mounted lower on the body to allow for enough thickness to print. In this case, 2mm is used although it would be better to calculate where $y_U = 0.225$ for a $.45 mm$ nozzle."
   ]
  },
  {
   "cell_type": "code",
   "execution_count": 62,
   "metadata": {},
   "outputs": [],
   "source": [
    "fin = translate([0, OR, chord-2])((rotate([270, 0, 0]))(linear_extrude(height=span)(polygon(fin_points))))\n",
    "p = cylinder(d=OD, h=body_len, segments=SMOOTH)\n",
    "p += (fin) \n",
    "p += rotate([0,0,120])(fin)\n",
    "p += rotate([0,0,240])(fin)"
   ]
  },
  {
   "cell_type": "markdown",
   "metadata": {},
   "source": [
    "We need to slice off the fin overlap left from the lower mounting."
   ]
  },
  {
   "cell_type": "code",
   "execution_count": 63,
   "metadata": {},
   "outputs": [
    {
     "data": {
      "application/vnd.jupyter.widget-view+json": {
       "model_id": "9e24f2c9d1f54f55ad29ab6441e50459",
       "version_major": 2,
       "version_minor": 0
      },
      "text/plain": [
       "VBox(children=(HTML(value=''), Renderer(background='#cccc88', background_opacity=0.0, camera=PerspectiveCamera…"
      ]
     },
     "metadata": {},
     "output_type": "display_data"
    }
   ],
   "source": [
    "p -= translate([0, 0, -chord])(cylinder(d=OD+span*2.1, h=chord))\n",
    "\n",
    "r = viewscad.Renderer()\n",
    "r.render(p, outfile=expanduser(\"~\") + '/GGA_body.stl')\n",
    "\n"
   ]
  },
  {
   "cell_type": "code",
   "execution_count": null,
   "metadata": {},
   "outputs": [],
   "source": [
    "\n",
    "\n"
   ]
  }
 ],
 "metadata": {
  "kernelspec": {
   "display_name": "Python 3",
   "language": "python",
   "name": "python3"
  },
  "language_info": {
   "codemirror_mode": {
    "name": "ipython",
    "version": 3
   },
   "file_extension": ".py",
   "mimetype": "text/x-python",
   "name": "python",
   "nbconvert_exporter": "python",
   "pygments_lexer": "ipython3",
   "version": "3.6.8"
  }
 },
 "nbformat": 4,
 "nbformat_minor": 2
}
