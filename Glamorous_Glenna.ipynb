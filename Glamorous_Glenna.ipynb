{
 "cells": [
  {
   "cell_type": "markdown",
   "metadata": {},
   "source": [
    "# Altitude Rockets Designs\n",
    "\n",
    "This notbook provides descriptions, equations and renderings of several nose cone shapes commonly used in hobbly rocketry. The notebook leverages serveral common packages such as matplotlib, numpy for data handling and 2D graphing and some less-common packages viewscad, solidpython and OpenSCAD for 3D rendering.\n",
    "\n",
    "Our first step is to import these packages."
   ]
  },
  {
   "cell_type": "code",
   "execution_count": 1,
   "metadata": {},
   "outputs": [],
   "source": [
    "from os.path import expanduser\n",
    "import matplotlib.pyplot as plt\n",
    "import numpy as np\n",
    "import viewscad\n",
    "from solid import *"
   ]
  },
  {
   "cell_type": "markdown",
   "metadata": {},
   "source": [
    "The parameters for the fins define the shape of the symetric airfoil as well as the minimum printible thickness. Since the model is printed using spiral mode, we *must* allow for two paths along the fin leading and trailing edges."
   ]
  },
  {
   "cell_type": "code",
   "execution_count": 2,
   "metadata": {},
   "outputs": [],
   "source": [
    "body_length = 110\n",
    "body_diameter = 14.5\n",
    "body_radius = body_diameter/2\n",
    "\n",
    "motor_diameter = 13\n",
    "motor_radius = motor_diameter/2\n",
    "\n",
    "nose_length = 31\n",
    "nose_radius = body_radius\n",
    "\n",
    "fin_chord = 20\n",
    "fin_span = 20\n",
    "fin_max = 2\n",
    "fin_min = 0.25"
   ]
  },
  {
   "cell_type": "markdown",
   "metadata": {},
   "source": [
    "The smoothing factor defines the number of segments used to render objects and the number of points for defining curves. We also create an array of zero for convienence."
   ]
  },
  {
   "cell_type": "code",
   "execution_count": 3,
   "metadata": {},
   "outputs": [],
   "source": [
    "SMOOTH=500\n",
    "zero = np.array([0])"
   ]
  },
  {
   "cell_type": "markdown",
   "metadata": {},
   "source": [
    "\n",
    "## Nose Cone\n",
    "\n",
    "The elliptical nose cone shape is one-half of an ellipse, with the major axis being the centerline and the minor axis being the base of the nose cone. A rotation of a full ellipse about its major axis is called a prolate spheroid, so an elliptical nose shape would properly be known as a prolate hemispheroid. This has been chosen  due to the blunt nose and tangent base, which is generally considered superior for model rocketry altitude optimisation use.\n",
    "\n",
    "The profile is defined as $y=R{\\sqrt  {1-{x^{2} \\over L^{2}}}}$\n",
    "\n",
    "Calculate the nose cone profile"
   ]
  },
  {
   "cell_type": "code",
   "execution_count": 4,
   "metadata": {},
   "outputs": [
    {
     "data": {
      "image/png": "[encoded data removed]",
      "text/plain": [
       "<Figure size 432x288 with 1 Axes>"
      ]
     },
     "metadata": {
      "needs_background": "light"
     },
     "output_type": "display_data"
    }
   ],
   "source": [
    "x = np.linspace(0, nose_length, int(SMOOTH))\n",
    "f = lambda x: nose_radius * np.sqrt(1-(x**2/nose_length**2))\n",
    "y = f(x)\n",
    "\n",
    "xplt = np.concatenate((zero, x, zero))\n",
    "yplt = np.concatenate((zero, y, zero))\n",
    "\n",
    "plt.axes().set_aspect(\"equal\")    \n",
    "plt.plot(xplt, yplt)\n",
    "    \n",
    "points = np.vstack((yplt, xplt)).T"
   ]
  },
  {
   "cell_type": "markdown",
   "metadata": {},
   "source": [
    "rotate the profile around the z-axis to create a solid object and output an .stl for subsequent use."
   ]
  },
  {
   "cell_type": "code",
   "execution_count": 5,
   "metadata": {
    "scrolled": false
   },
   "outputs": [
    {
     "data": {
      "application/vnd.jupyter.widget-view+json": {
       "model_id": "693b33c0c4934703999ac310b0ef548c",
       "version_major": 2,
       "version_minor": 0
      },
      "text/plain": [
       "VBox(children=(HTML(value=''), Renderer(background='#cccc88', background_opacity=0.0, camera=PerspectiveCamera…"
      ]
     },
     "metadata": {},
     "output_type": "display_data"
    }
   ],
   "source": [
    "r = viewscad.Renderer()\n",
    "p = rotate_extrude(360, segments=SMOOTH)(polygon(points))\n",
    "\n",
    "r.render(p, outfile=expanduser(\"~\") + '/GGA_nose.stl')"
   ]
  },
  {
   "cell_type": "markdown",
   "metadata": {},
   "source": [
    "## Altimeter Bay\n",
    "This need to be printed with seveal bottom layers to provide protection for the altimiter, which is housed mostly in the nose cone."
   ]
  },
  {
   "cell_type": "code",
   "execution_count": 6,
   "metadata": {},
   "outputs": [
    {
     "data": {
      "application/vnd.jupyter.widget-view+json": {
       "model_id": "d884d143f0cd450d877aad7e44ce6f01",
       "version_major": 2,
       "version_minor": 0
      },
      "text/plain": [
       "VBox(children=(HTML(value=''), Renderer(background='#cccc88', background_opacity=0.0, camera=PerspectiveCamera…"
      ]
     },
     "metadata": {},
     "output_type": "display_data"
    }
   ],
   "source": [
    "r = viewscad.Renderer()\n",
    "p = cylinder(r=motor_radius*.99, h=10, segments=SMOOTH)\n",
    "p += translate([0, 0, 10])(cylinder(r=motor_radius, h=5, segments=SMOOTH))\n",
    "                                         \n",
    "r.render(p, outfile=expanduser(\"~\") + '/GGA_altbay.stl')"
   ]
  },
  {
   "cell_type": "markdown",
   "metadata": {},
   "source": [
    "## The Fins\n",
    "The fins are square, which provides an optimal balance between stability and drag. The airfoil applied to the fins is paticularly important as these shows significant improvement in effieiency.\n",
    "\n",
    "A symmetric NACA Four-Digit Series airfoil has been chosen, which is most approriate for this use and significantly easier to calculate. The formula for the shape of a NACA 00xx foil, with \"x\" being replaced by the percentage of thickness to chord, is:[3]\n",
    "\n",
    "$y_t=5t\\ [0.2969\\sqrt{x}-0.1260x-0.3516x^2+0.2843x^3-0.1015x^4]$\n",
    "\n",
    "where:\n",
    "\n",
    "* $x$ is the position along the chord from $0$ to $1.00$, $(0$ to $100\\%)$\n",
    "\n",
    "* $y_t$ is the half thickness at a given value of $x$ (centerline to surface), and\n",
    "\n",
    "* $t$ is the maximum thickness as a fraction of the chord (so $t$ gives the last two digits in the NACA 4-digit denomination divided by 100).\n",
    "\n",
    "Note that in this equation, at $(x/c) = 1$ (the trailing edge of the airfoil), the thickness is not quite zero. If a zero-thickness trailing edge is required, for example for computational work, one of the coefficients should be modified such that they sum to zero. Modifying the last coefficient (i.e. to −0.1036) will result in the smallest change to the overall shape of the airfoil. The leading edge approximates a cylinder with a radius of:\n",
    "\n",
    "$r=1.1019\\ \\frac {t^2}{c}.$\n",
    "\n",
    "Now the coordinates $(x_U,y_U)$ of the upper airfoil surface, and $(x_L,y_L)$ of the lower airfoil surface are:\n",
    "\n",
    "$x_U=x_L=x,\\qquad y_U=+y_t,\\qquad \\text{and}\\qquad y_L=-y_t.$\n",
    "\n",
    "Symmetrical 4-digit series airfoils by default have maximum thickness at 30% of the chord from the leading edge.\n",
    "\n",
    "Allocate an array to represent $x$ and apply the function."
   ]
  },
  {
   "cell_type": "code",
   "execution_count": 7,
   "metadata": {
    "scrolled": true
   },
   "outputs": [],
   "source": [
    "x = np.linspace(0, 1, fin_chord*100)\n",
    "f = lambda x: (5*fin_max)*(0.2969*np.sqrt(x)-0.1260*x-0.3516*x**2+0.2843*x**3-0.1015*x**4)\n",
    "\n",
    "y=f(x)"
   ]
  },
  {
   "cell_type": "markdown",
   "metadata": {},
   "source": [
    "Create a array to scale $x$ to $c$ and ensure the $y$ values are $<$ min thickness . Then add a $(c,\\ 0)$ and $(0, 0)$ coordnate to the x and y arrays to ensure a closed polygon."
   ]
  },
  {
   "cell_type": "code",
   "execution_count": 8,
   "metadata": {},
   "outputs": [],
   "source": [
    "x_scale = np.linspace(0, fin_chord, int(fin_chord*100))\n",
    "y[y < fin_min] = fin_min\n",
    "\n",
    "x_u = np.concatenate((zero, x_scale, np.array([fin_chord])))\n",
    "y_u = np.concatenate((zero, y, zero))\n"
   ]
  },
  {
   "cell_type": "markdown",
   "metadata": {},
   "source": [
    "Create the lower arrays"
   ]
  },
  {
   "cell_type": "code",
   "execution_count": 9,
   "metadata": {},
   "outputs": [
    {
     "data": {
      "text/plain": [
       "[<matplotlib.lines.Line2D at 0x1a1e551128>]"
      ]
     },
     "execution_count": 9,
     "metadata": {},
     "output_type": "execute_result"
    },
    {
     "data": {
      "image/png": "[encoded data removed]",
      "text/plain": [
       "<Figure size 432x288 with 1 Axes>"
      ]
     },
     "metadata": {
      "needs_background": "light"
     },
     "output_type": "display_data"
    }
   ],
   "source": [
    "y_l = np.negative(y_u)\n",
    "x_l = x_u\n",
    "\n",
    "plt.axes().set_aspect(\"equal\")\n",
    "plt.plot(x_u, y_u)\n",
    "plt.plot(x_l, y_l)"
   ]
  },
  {
   "cell_type": "markdown",
   "metadata": {},
   "source": [
    "Build a set of points describing the airfoil"
   ]
  },
  {
   "cell_type": "code",
   "execution_count": 10,
   "metadata": {},
   "outputs": [],
   "source": [
    "fin_points = np.vstack((np.concatenate((y_u, y_l)), np.concatenate((x_u, x_l)))).T"
   ]
  },
  {
   "cell_type": "markdown",
   "metadata": {},
   "source": [
    "## Body\n",
    "The body is simply a minimum diameter tube with the fins attached at $120^\\circ$ angles."
   ]
  },
  {
   "cell_type": "code",
   "execution_count": 11,
   "metadata": {},
   "outputs": [
    {
     "data": {
      "application/vnd.jupyter.widget-view+json": {
       "model_id": "d7b0f2c52e1b4cffb8a398e4070c3120",
       "version_major": 2,
       "version_minor": 0
      },
      "text/plain": [
       "VBox(children=(HTML(value=''), Renderer(background='#cccc88', background_opacity=0.0, camera=PerspectiveCamera…"
      ]
     },
     "metadata": {},
     "output_type": "display_data"
    }
   ],
   "source": [
    "fin = translate([0, body_radius, fin_chord])(\n",
    "      (rotate([270, 0, 0]))\n",
    "      (linear_extrude(height=fin_span)\n",
    "      (polygon(fin_points))))\n",
    "\n",
    "p = cylinder(d=body_diameter, h=body_length, segments=SMOOTH)\n",
    "p += (fin) \n",
    "p += rotate([0,0,120])(fin)\n",
    "p += rotate([0,0,240])(fin)\n",
    "\n",
    "r = viewscad.Renderer()\n",
    "r.render(p, outfile=expanduser(\"~\") + '/GGA_body.stl')"
   ]
  },
  {
   "cell_type": "markdown",
   "metadata": {},
   "source": [
    "## References\n",
    "[1]"
   ]
  }
 ],
 "metadata": {
  "kernelspec": {
   "display_name": "Python 3",
   "language": "python",
   "name": "python3"
  },
  "language_info": {
   "codemirror_mode": {
    "name": "ipython",
    "version": 3
   },
   "file_extension": ".py",
   "mimetype": "text/x-python",
   "name": "python",
   "nbconvert_exporter": "python",
   "pygments_lexer": "ipython3",
   "version": "3.6.8"
  }
 },
 "nbformat": 4,
 "nbformat_minor": 2
}
