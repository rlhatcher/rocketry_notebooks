{
 "cells": [
  {
   "cell_type": "code",
   "execution_count": 2,
   "metadata": {},
   "outputs": [
    {
     "ename": "ModuleNotFoundError",
     "evalue": "No module named 'stl'",
     "output_type": "error",
     "traceback": [
      "\u001b[0;31m---------------------------------------------------------------------------\u001b[0m",
      "\u001b[0;31mModuleNotFoundError\u001b[0m                       Traceback (most recent call last)",
      "Cell \u001b[0;32mIn[2], line 2\u001b[0m\n\u001b[1;32m      1\u001b[0m \u001b[39mimport\u001b[39;00m \u001b[39mnumpy\u001b[39;00m \u001b[39mas\u001b[39;00m \u001b[39mnp\u001b[39;00m\n\u001b[0;32m----> 2\u001b[0m \u001b[39mfrom\u001b[39;00m \u001b[39mstl\u001b[39;00m \u001b[39mimport\u001b[39;00m mesh\n\u001b[1;32m      4\u001b[0m \u001b[39m# Cylinder Parameters\u001b[39;00m\n\u001b[1;32m      5\u001b[0m radius \u001b[39m=\u001b[39m \u001b[39m10\u001b[39m\n",
      "\u001b[0;31mModuleNotFoundError\u001b[0m: No module named 'stl'"
     ]
    }
   ],
   "source": [
    "import numpy as np\n",
    "from stl import mesh\n",
    "\n",
    "# Cylinder Parameters\n",
    "radius = 10\n",
    "height = 20\n",
    "\n",
    "# Generate Cylinder Vertices\n",
    "resolution = 100\n",
    "theta = np.linspace(0, 2*np.pi, resolution)\n",
    "z = np.linspace(0, height, resolution)\n",
    "theta, z = np.meshgrid(theta, z)\n",
    "x = radius * np.cos(theta)\n",
    "y = radius * np.sin(theta)\n",
    "\n",
    "# Create STL Mesh\n",
    "vertices = np.column_stack([np.ravel(x), np.ravel(y), np.ravel(z)])\n",
    "faces = np.column_stack([np.arange(resolution), np.arange(1, resolution+1), np.arange(2, resolution+2)]).reshape(-1, 3)[:-2]\n",
    "mesh_data = mesh.Mesh(np.zeros(faces.shape[0], dtype=mesh.Mesh.dtype))\n",
    "mesh_data.vectors = vertices[faces]\n",
    "mesh_data.update_normals()\n",
    "\n",
    "# Save STL File\n",
    "mesh_data.save('cylinder.stl')\n"
   ]
  }
 ],
 "metadata": {
  "kernelspec": {
   "display_name": "Python 3",
   "language": "python",
   "name": "python3"
  },
  "language_info": {
   "codemirror_mode": {
    "name": "ipython",
    "version": 3
   },
   "file_extension": ".py",
   "mimetype": "text/x-python",
   "name": "python",
   "nbconvert_exporter": "python",
   "pygments_lexer": "ipython3",
   "version": "3.11.1"
  },
  "orig_nbformat": 4
 },
 "nbformat": 4,
 "nbformat_minor": 2
}
