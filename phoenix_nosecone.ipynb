{
 "cells": [
  {
   "cell_type": "markdown",
   "metadata": {},
   "source": [
    "# Phoenix Nosecone Design\n",
    "\n",
    "This notebook provides descriptions, equations and renderings for a nosecone similar to that used on the AIM-54 (Phoenix) missile. The notebook leverages several common packages such as matplotlib, numpy for data handling and 2D graphing and some less-common packages viewscad, solidpython and OpenSCAD for 3D rendering.\n",
    "\n",
    "Our first step is to import these packages."
   ]
  },
  {
   "cell_type": "code",
   "execution_count": 11,
   "metadata": {},
   "outputs": [],
   "source": [
    "import matplotlib.pyplot as plt\n",
    "import numpy as np\n",
    "import viewscad\n",
    "from solid import *\n",
    "\n",
    "L = 408 # length base to tip\n",
    "R = 95  # radius at base\n",
    "S = 94  # shoulder diameter\n",
    "M = 50  # mount length\n",
    "\n",
    "# define an x axis the same length as the nose cone\n",
    "x = np.linspace(0, L, int(L))"
   ]
  },
  {
   "cell_type": "markdown",
   "metadata": {},
   "source": [
    "## Haack series\n",
    "\n",
    "Comparing several different shapes with the original drawings of the nosecone, the Haack shape visually fit best. That choice would make sense from an engineering standpoint particularly with an L/D shape to minimize drag.\n",
    "\n",
    "Unlike many other nose cone shapes, the Haack Series are mathematically derived for the purpose of minimizing drag. While the series is a continuous set of shapes determined by the value of $C$ in the equations below, two values of $C$ have particular significance: when $C = 0$, the notation $LD$ signifies minimum drag for the given length and diameter, and when $C = {1 \\over 3}$, $LV$ indicates minimum drag for a given length and volume. The Haack series nose cones are not perfectly tangent to the body at their base except for the case where $C = {2 \\over 3}$. However, the discontinuity is usually so slight as to be imperceptible. For $C > {2 \\over 3}$, Haack nose cones bulge to a maximum diameter greater than the base diameter. Haack nose tips do not come to a sharp point, but are slightly rounded.\n",
    "\n",
    "$\\theta = \\arccos \\Bigl(1 - {2X \\over L}\\Bigr)$\n",
    "\n",
    "$y = {R \\over \\sqrt{\\pi}} \\sqrt{\\theta-{\\sin({2\\theta})\\over2}+C \\sin^3({\\theta})}$\n",
    "\n",
    "Where:\n",
    "\n",
    "$C = {1 \\over 3}$ for LV-Haack \n",
    "\n",
    "$C = 0$ for LD-Haack"
   ]
  },
  {
   "cell_type": "code",
   "execution_count": 12,
   "metadata": {},
   "outputs": [
    {
     "data": {
      "image/png": "[encoded data removed]",
      "text/plain": [
       "<Figure size 432x288 with 1 Axes>"
      ]
     },
     "metadata": {
      "needs_background": "light"
     },
     "output_type": "display_data"
    }
   ],
   "source": [
    "C = 1/3\n",
    "\n",
    "f = lambda x: (R/np.sqrt(np.pi))*np.sqrt((np.arccos(1 - (2*x)/L)) - (np.sin(2 * (np.arccos(1 - (2*x)/L))))/2 + C * np.sin((np.arccos(1 - (2*x)/L)))**3)\n",
    "y = f(x)\n",
    "\n",
    "zero = np.array([0])\n",
    "xplt = np.concatenate((zero, x, zero))\n",
    "yplt = np.concatenate((zero, y[::-1], zero))\n",
    "\n",
    "plt.axes().set_aspect(\"equal\")    \n",
    "plt.plot(xplt, yplt)\n",
    "\n",
    "points = np.vstack((yplt, xplt)).T\n",
    "\n"
   ]
  },
  {
   "cell_type": "markdown",
   "metadata": {},
   "source": [
    "The smoothing factor defines the number of segments used to render objects. As is often the case, the larger the number the more processing is required. I find 100 provides enough detail for practical use."
   ]
  },
  {
   "cell_type": "code",
   "execution_count": 13,
   "metadata": {},
   "outputs": [],
   "source": [
    "SMOOTH=100"
   ]
  },
  {
   "cell_type": "markdown",
   "metadata": {},
   "source": [
    "This function adds origin coordinates to the arrays passed and plots a graph of the nosecone profile in 2 dimensions. The arrays are combined into an array of points and returned."
   ]
  },
  {
   "cell_type": "code",
   "execution_count": 14,
   "metadata": {
    "scrolled": true
   },
   "outputs": [
    {
     "name": "stderr",
     "output_type": "stream",
     "text": [
      "Geometries in cache: 6\n",
      "Geometry cache size in bytes: 5954584\n",
      "CGAL Polyhedrons in cache: 1\n",
      "CGAL cache size in bytes: 103649640\n",
      "Total rendering time: 0:01:00.551\n",
      "   Top level object is a 3D object:\n",
      "   Simple:        yes\n",
      "   Vertices:    41101\n",
      "   Halfedges:  241952\n",
      "   Edges:      120976\n",
      "   Halffacets: 159758\n",
      "   Facets:      79879\n",
      "   Volumes:         2\n"
     ]
    },
    {
     "data": {
      "application/vnd.jupyter.widget-view+json": {
       "model_id": "1fbbc4d7936743268bab0e358c88af73",
       "version_major": 2,
       "version_minor": 0
      },
      "text/plain": [
       "VBox(children=(HTML(value=''), Renderer(background='#cccc88', background_opacity=0.0, camera=PerspectiveCamera…"
      ]
     },
     "metadata": {},
     "output_type": "display_data"
    }
   ],
   "source": [
    "r = viewscad.Renderer()\n",
    "p = rotate_extrude(360, segments=SMOOTH)(polygon(points))\n",
    "if S != 0:\n",
    "    p += translate([0, 0, -S])(cylinder(r=S, h=S, segments=SMOOTH))\n",
    "        \n",
    "if M != 0:\n",
    "    p -= translate([0, 0, -S])(cylinder(r=M, h=S, segments=SMOOTH))\n",
    "\n",
    "r.render(p, outfile='./' + 'phoenix_haak' + '.stl')"
   ]
  },
  {
   "cell_type": "code",
   "execution_count": null,
   "metadata": {},
   "outputs": [],
   "source": []
  }
 ],
 "metadata": {
  "kernelspec": {
   "display_name": "Python 3 (ipykernel)",
   "language": "python",
   "name": "python3"
  },
  "language_info": {
   "codemirror_mode": {
    "name": "ipython",
    "version": 3
   },
   "file_extension": ".py",
   "mimetype": "text/x-python",
   "name": "python",
   "nbconvert_exporter": "python",
   "pygments_lexer": "ipython3",
   "version": "3.9.4 (default, Jul 17 2021, 16:36:41) \n[Clang 12.0.5 (clang-1205.0.22.11)]"
  },
  "vscode": {
   "interpreter": {
    "hash": "c11dac3da843289caa77229d61979c40d83d770c20083b579f300d9983135ded"
   }
  }
 },
 "nbformat": 4,
 "nbformat_minor": 2
}
